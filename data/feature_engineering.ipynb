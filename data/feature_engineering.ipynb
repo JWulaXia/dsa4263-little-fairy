{
 "cells": [
  {
   "cell_type": "code",
   "execution_count": 1,
   "id": "699c7274",
   "metadata": {},
   "outputs": [
    {
     "name": "stderr",
     "output_type": "stream",
     "text": [
      "[nltk_data] Downloading package averaged_perceptron_tagger to\n",
      "[nltk_data]     /Users/qiting/nltk_data...\n",
      "[nltk_data]   Package averaged_perceptron_tagger is already up-to-\n",
      "[nltk_data]       date!\n"
     ]
    }
   ],
   "source": [
    "import pandas as pd\n",
    "import re\n",
    "import string\n",
    "import nltk\n",
    "from nltk.corpus import stopwords\n",
    "# nltk.download('stopwords')\n",
    "# nltk.download('wordnet')\n",
    "nltk.download('averaged_perceptron_tagger')\n",
    "import spacy\n",
    "# !python3 -m spacy download en_core_web_sm\n",
    "import sklearn"
   ]
  },
  {
   "cell_type": "code",
   "execution_count": 2,
   "id": "b38916bc",
   "metadata": {},
   "outputs": [],
   "source": [
    "reviews = pd.read_csv('raw_reviews.csv')"
   ]
  },
  {
   "cell_type": "code",
   "execution_count": 3,
   "id": "dd260514",
   "metadata": {},
   "outputs": [
    {
     "data": {
      "text/html": [
       "<div>\n",
       "<style scoped>\n",
       "    .dataframe tbody tr th:only-of-type {\n",
       "        vertical-align: middle;\n",
       "    }\n",
       "\n",
       "    .dataframe tbody tr th {\n",
       "        vertical-align: top;\n",
       "    }\n",
       "\n",
       "    .dataframe thead th {\n",
       "        text-align: right;\n",
       "    }\n",
       "</style>\n",
       "<table border=\"1\" class=\"dataframe\">\n",
       "  <thead>\n",
       "    <tr style=\"text-align: right;\">\n",
       "      <th></th>\n",
       "      <th>Sentiment</th>\n",
       "      <th>Time</th>\n",
       "      <th>Text</th>\n",
       "    </tr>\n",
       "  </thead>\n",
       "  <tbody>\n",
       "    <tr>\n",
       "      <th>0</th>\n",
       "      <td>positive</td>\n",
       "      <td>18/6/21</td>\n",
       "      <td>This is a very healthy dog food. Good for thei...</td>\n",
       "    </tr>\n",
       "    <tr>\n",
       "      <th>1</th>\n",
       "      <td>positive</td>\n",
       "      <td>7/7/21</td>\n",
       "      <td>I've been very pleased with the Natural Balanc...</td>\n",
       "    </tr>\n",
       "    <tr>\n",
       "      <th>2</th>\n",
       "      <td>positive</td>\n",
       "      <td>18/6/21</td>\n",
       "      <td>Before I was educated about feline nutrition, ...</td>\n",
       "    </tr>\n",
       "    <tr>\n",
       "      <th>3</th>\n",
       "      <td>positive</td>\n",
       "      <td>7/7/21</td>\n",
       "      <td>My holistic vet recommended this, along with a...</td>\n",
       "    </tr>\n",
       "    <tr>\n",
       "      <th>4</th>\n",
       "      <td>positive</td>\n",
       "      <td>1/7/21</td>\n",
       "      <td>I bought this coffee because its much cheaper ...</td>\n",
       "    </tr>\n",
       "  </tbody>\n",
       "</table>\n",
       "</div>"
      ],
      "text/plain": [
       "  Sentiment     Time                                               Text\n",
       "0  positive  18/6/21  This is a very healthy dog food. Good for thei...\n",
       "1  positive   7/7/21  I've been very pleased with the Natural Balanc...\n",
       "2  positive  18/6/21  Before I was educated about feline nutrition, ...\n",
       "3  positive   7/7/21  My holistic vet recommended this, along with a...\n",
       "4  positive   1/7/21  I bought this coffee because its much cheaper ..."
      ]
     },
     "execution_count": 3,
     "metadata": {},
     "output_type": "execute_result"
    }
   ],
   "source": [
    "reviews.head()"
   ]
  },
  {
   "cell_type": "code",
   "execution_count": 4,
   "id": "f5461578",
   "metadata": {},
   "outputs": [],
   "source": [
    "def get_basic_tokens(text):\n",
    "    #lower case\n",
    "    text = text.lower()\n",
    "    \n",
    "    #remove ' from 's, 've, 'nt\n",
    "    text = re.sub(r\"'\", '', text)\n",
    "    \n",
    "    #remove br in <br> or </br>\n",
    "    text = re.sub(r\"br\", '', text)\n",
    "    \n",
    "    #remove numbers\n",
    "    text = re.sub(r\"\\d+\", '', text)\n",
    "    \n",
    "    #split by space and punctuation\n",
    "    tokens = re.split(r'[^\\w]', text)\n",
    "    \n",
    "    #remove empty\n",
    "    tokens = [i for i in tokens if i != '']\n",
    "    \n",
    "    return tokens"
   ]
  },
  {
   "cell_type": "code",
   "execution_count": 5,
   "id": "f26f44c9",
   "metadata": {},
   "outputs": [],
   "source": [
    "reviews['tokens'] = reviews.Text.apply(get_basic_tokens)\n",
    "reviews['num_tokens_original'] = reviews.tokens.apply(lambda x: len(x))"
   ]
  },
  {
   "cell_type": "code",
   "execution_count": 6,
   "id": "709a4055",
   "metadata": {},
   "outputs": [
    {
     "data": {
      "text/html": [
       "<div>\n",
       "<style scoped>\n",
       "    .dataframe tbody tr th:only-of-type {\n",
       "        vertical-align: middle;\n",
       "    }\n",
       "\n",
       "    .dataframe tbody tr th {\n",
       "        vertical-align: top;\n",
       "    }\n",
       "\n",
       "    .dataframe thead th {\n",
       "        text-align: right;\n",
       "    }\n",
       "</style>\n",
       "<table border=\"1\" class=\"dataframe\">\n",
       "  <thead>\n",
       "    <tr style=\"text-align: right;\">\n",
       "      <th></th>\n",
       "      <th>Sentiment</th>\n",
       "      <th>Time</th>\n",
       "      <th>Text</th>\n",
       "      <th>tokens</th>\n",
       "      <th>num_tokens_original</th>\n",
       "    </tr>\n",
       "  </thead>\n",
       "  <tbody>\n",
       "    <tr>\n",
       "      <th>0</th>\n",
       "      <td>positive</td>\n",
       "      <td>18/6/21</td>\n",
       "      <td>This is a very healthy dog food. Good for thei...</td>\n",
       "      <td>[this, is, a, very, healthy, dog, food, good, ...</td>\n",
       "      <td>25</td>\n",
       "    </tr>\n",
       "    <tr>\n",
       "      <th>1</th>\n",
       "      <td>positive</td>\n",
       "      <td>7/7/21</td>\n",
       "      <td>I've been very pleased with the Natural Balanc...</td>\n",
       "      <td>[ive, been, very, pleased, with, the, natural,...</td>\n",
       "      <td>62</td>\n",
       "    </tr>\n",
       "    <tr>\n",
       "      <th>2</th>\n",
       "      <td>positive</td>\n",
       "      <td>18/6/21</td>\n",
       "      <td>Before I was educated about feline nutrition, ...</td>\n",
       "      <td>[before, i, was, educated, about, feline, nutr...</td>\n",
       "      <td>127</td>\n",
       "    </tr>\n",
       "    <tr>\n",
       "      <th>3</th>\n",
       "      <td>positive</td>\n",
       "      <td>7/7/21</td>\n",
       "      <td>My holistic vet recommended this, along with a...</td>\n",
       "      <td>[my, holistic, vet, recommended, this, along, ...</td>\n",
       "      <td>93</td>\n",
       "    </tr>\n",
       "    <tr>\n",
       "      <th>4</th>\n",
       "      <td>positive</td>\n",
       "      <td>1/7/21</td>\n",
       "      <td>I bought this coffee because its much cheaper ...</td>\n",
       "      <td>[i, bought, this, coffee, because, its, much, ...</td>\n",
       "      <td>75</td>\n",
       "    </tr>\n",
       "  </tbody>\n",
       "</table>\n",
       "</div>"
      ],
      "text/plain": [
       "  Sentiment     Time                                               Text  \\\n",
       "0  positive  18/6/21  This is a very healthy dog food. Good for thei...   \n",
       "1  positive   7/7/21  I've been very pleased with the Natural Balanc...   \n",
       "2  positive  18/6/21  Before I was educated about feline nutrition, ...   \n",
       "3  positive   7/7/21  My holistic vet recommended this, along with a...   \n",
       "4  positive   1/7/21  I bought this coffee because its much cheaper ...   \n",
       "\n",
       "                                              tokens  num_tokens_original  \n",
       "0  [this, is, a, very, healthy, dog, food, good, ...                   25  \n",
       "1  [ive, been, very, pleased, with, the, natural,...                   62  \n",
       "2  [before, i, was, educated, about, feline, nutr...                  127  \n",
       "3  [my, holistic, vet, recommended, this, along, ...                   93  \n",
       "4  [i, bought, this, coffee, because, its, much, ...                   75  "
      ]
     },
     "execution_count": 6,
     "metadata": {},
     "output_type": "execute_result"
    }
   ],
   "source": [
    "reviews.head()"
   ]
  },
  {
   "cell_type": "code",
   "execution_count": 7,
   "id": "905120a6",
   "metadata": {},
   "outputs": [
    {
     "data": {
      "text/plain": [
       "[('biG', 'JJ'), ('Bigger', 'NNP'), ('bigger', 'JJR')]"
      ]
     },
     "execution_count": 7,
     "metadata": {},
     "output_type": "execute_result"
    }
   ],
   "source": [
    "nltk.pos_tag(['biG', 'Bigger','bigger'])"
   ]
  },
  {
   "cell_type": "code",
   "execution_count": 8,
   "id": "dc66d542",
   "metadata": {},
   "outputs": [],
   "source": [
    "# JJ adjective – ‘big’ \n",
    "# JJR adjective, comparative – ‘bigger’ \n",
    "# JJS adjective, superlative – ‘biggest’ \n",
    "# RB adverb – very, silently, \n",
    "# RBR adverb, comparative – better \n",
    "# RBS adverb, superlative – best \n",
    "\n",
    "def get_adj_pos_count(tokens):\n",
    "    tagged = nltk.pos_tag(tokens)\n",
    "    adj_tag = ['JJ', 'JJR', 'JJS']\n",
    "    adj_pos = [i for i in tagged if i[1] in (adj_tag)]\n",
    "    return len(adj_pos)\n",
    "\n",
    "def get_adv_pos_count(tokens):\n",
    "    tagged = nltk.pos_tag(tokens)\n",
    "    adv_tag = ['RB', 'RBR', 'RBS']\n",
    "    adv_pos = [i for i in tagged if i[1] in (adv_tag)]\n",
    "    return len(adv_pos)"
   ]
  },
  {
   "cell_type": "code",
   "execution_count": 9,
   "id": "fee44a91",
   "metadata": {},
   "outputs": [],
   "source": [
    "reviews['adj_cnt'] = reviews.tokens.apply(get_adj_pos_count)\n",
    "reviews['adv_cnt'] = reviews.tokens.apply(get_adv_pos_count)"
   ]
  },
  {
   "cell_type": "code",
   "execution_count": 10,
   "id": "1e32400b",
   "metadata": {},
   "outputs": [
    {
     "data": {
      "text/html": [
       "<div>\n",
       "<style scoped>\n",
       "    .dataframe tbody tr th:only-of-type {\n",
       "        vertical-align: middle;\n",
       "    }\n",
       "\n",
       "    .dataframe tbody tr th {\n",
       "        vertical-align: top;\n",
       "    }\n",
       "\n",
       "    .dataframe thead th {\n",
       "        text-align: right;\n",
       "    }\n",
       "</style>\n",
       "<table border=\"1\" class=\"dataframe\">\n",
       "  <thead>\n",
       "    <tr style=\"text-align: right;\">\n",
       "      <th></th>\n",
       "      <th>Sentiment</th>\n",
       "      <th>Time</th>\n",
       "      <th>Text</th>\n",
       "      <th>tokens</th>\n",
       "      <th>num_tokens_original</th>\n",
       "      <th>adj_cnt</th>\n",
       "      <th>adv_cnt</th>\n",
       "    </tr>\n",
       "  </thead>\n",
       "  <tbody>\n",
       "    <tr>\n",
       "      <th>0</th>\n",
       "      <td>positive</td>\n",
       "      <td>18/6/21</td>\n",
       "      <td>This is a very healthy dog food. Good for thei...</td>\n",
       "      <td>[this, is, a, very, healthy, dog, food, good, ...</td>\n",
       "      <td>25</td>\n",
       "      <td>4</td>\n",
       "      <td>2</td>\n",
       "    </tr>\n",
       "    <tr>\n",
       "      <th>1</th>\n",
       "      <td>positive</td>\n",
       "      <td>7/7/21</td>\n",
       "      <td>I've been very pleased with the Natural Balanc...</td>\n",
       "      <td>[ive, been, very, pleased, with, the, natural,...</td>\n",
       "      <td>62</td>\n",
       "      <td>17</td>\n",
       "      <td>2</td>\n",
       "    </tr>\n",
       "    <tr>\n",
       "      <th>2</th>\n",
       "      <td>positive</td>\n",
       "      <td>18/6/21</td>\n",
       "      <td>Before I was educated about feline nutrition, ...</td>\n",
       "      <td>[before, i, was, educated, about, feline, nutr...</td>\n",
       "      <td>127</td>\n",
       "      <td>22</td>\n",
       "      <td>6</td>\n",
       "    </tr>\n",
       "    <tr>\n",
       "      <th>3</th>\n",
       "      <td>positive</td>\n",
       "      <td>7/7/21</td>\n",
       "      <td>My holistic vet recommended this, along with a...</td>\n",
       "      <td>[my, holistic, vet, recommended, this, along, ...</td>\n",
       "      <td>93</td>\n",
       "      <td>15</td>\n",
       "      <td>10</td>\n",
       "    </tr>\n",
       "    <tr>\n",
       "      <th>4</th>\n",
       "      <td>positive</td>\n",
       "      <td>1/7/21</td>\n",
       "      <td>I bought this coffee because its much cheaper ...</td>\n",
       "      <td>[i, bought, this, coffee, because, its, much, ...</td>\n",
       "      <td>75</td>\n",
       "      <td>12</td>\n",
       "      <td>7</td>\n",
       "    </tr>\n",
       "  </tbody>\n",
       "</table>\n",
       "</div>"
      ],
      "text/plain": [
       "  Sentiment     Time                                               Text  \\\n",
       "0  positive  18/6/21  This is a very healthy dog food. Good for thei...   \n",
       "1  positive   7/7/21  I've been very pleased with the Natural Balanc...   \n",
       "2  positive  18/6/21  Before I was educated about feline nutrition, ...   \n",
       "3  positive   7/7/21  My holistic vet recommended this, along with a...   \n",
       "4  positive   1/7/21  I bought this coffee because its much cheaper ...   \n",
       "\n",
       "                                              tokens  num_tokens_original  \\\n",
       "0  [this, is, a, very, healthy, dog, food, good, ...                   25   \n",
       "1  [ive, been, very, pleased, with, the, natural,...                   62   \n",
       "2  [before, i, was, educated, about, feline, nutr...                  127   \n",
       "3  [my, holistic, vet, recommended, this, along, ...                   93   \n",
       "4  [i, bought, this, coffee, because, its, much, ...                   75   \n",
       "\n",
       "   adj_cnt  adv_cnt  \n",
       "0        4        2  \n",
       "1       17        2  \n",
       "2       22        6  \n",
       "3       15       10  \n",
       "4       12        7  "
      ]
     },
     "execution_count": 10,
     "metadata": {},
     "output_type": "execute_result"
    }
   ],
   "source": [
    "reviews.head()"
   ]
  },
  {
   "cell_type": "code",
   "execution_count": null,
   "id": "01bd5669",
   "metadata": {},
   "outputs": [],
   "source": []
  },
  {
   "cell_type": "code",
   "execution_count": null,
   "id": "c3b64489",
   "metadata": {},
   "outputs": [],
   "source": []
  }
 ],
 "metadata": {
  "kernelspec": {
   "display_name": "Python 3 (ipykernel)",
   "language": "python",
   "name": "python3"
  },
  "language_info": {
   "codemirror_mode": {
    "name": "ipython",
    "version": 3
   },
   "file_extension": ".py",
   "mimetype": "text/x-python",
   "name": "python",
   "nbconvert_exporter": "python",
   "pygments_lexer": "ipython3",
   "version": "3.11.2"
  }
 },
 "nbformat": 4,
 "nbformat_minor": 5
}
